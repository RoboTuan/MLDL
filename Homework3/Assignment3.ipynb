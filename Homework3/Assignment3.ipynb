{
  "nbformat": 4,
  "nbformat_minor": 0,
  "metadata": {
    "colab": {
      "name": "Assignment3.ipynb",
      "provenance": [],
      "collapsed_sections": []
    },
    "kernelspec": {
      "name": "python3",
      "display_name": "Python 3"
    },
    "accelerator": "GPU",
    "widgets": {
      "application/vnd.jupyter.widget-state+json": {
        "ed29e92fa7da462c99540c7f3d7b8571": {
          "model_module": "@jupyter-widgets/controls",
          "model_name": "HBoxModel",
          "state": {
            "_view_name": "HBoxView",
            "_dom_classes": [],
            "_model_name": "HBoxModel",
            "_view_module": "@jupyter-widgets/controls",
            "_model_module_version": "1.5.0",
            "_view_count": null,
            "_view_module_version": "1.5.0",
            "box_style": "",
            "layout": "IPY_MODEL_74b4fd9b9a0348f2a8dc71ef6e71af3b",
            "_model_module": "@jupyter-widgets/controls",
            "children": [
              "IPY_MODEL_a112d733073c4a6e933e2a7d9f5ff631",
              "IPY_MODEL_17e221a2569d4797a7c795478a96de33"
            ]
          }
        },
        "74b4fd9b9a0348f2a8dc71ef6e71af3b": {
          "model_module": "@jupyter-widgets/base",
          "model_name": "LayoutModel",
          "state": {
            "_view_name": "LayoutView",
            "grid_template_rows": null,
            "right": null,
            "justify_content": null,
            "_view_module": "@jupyter-widgets/base",
            "overflow": null,
            "_model_module_version": "1.2.0",
            "_view_count": null,
            "flex_flow": null,
            "width": null,
            "min_width": null,
            "border": null,
            "align_items": null,
            "bottom": null,
            "_model_module": "@jupyter-widgets/base",
            "top": null,
            "grid_column": null,
            "overflow_y": null,
            "overflow_x": null,
            "grid_auto_flow": null,
            "grid_area": null,
            "grid_template_columns": null,
            "flex": null,
            "_model_name": "LayoutModel",
            "justify_items": null,
            "grid_row": null,
            "max_height": null,
            "align_content": null,
            "visibility": null,
            "align_self": null,
            "height": null,
            "min_height": null,
            "padding": null,
            "grid_auto_rows": null,
            "grid_gap": null,
            "max_width": null,
            "order": null,
            "_view_module_version": "1.2.0",
            "grid_template_areas": null,
            "object_position": null,
            "object_fit": null,
            "grid_auto_columns": null,
            "margin": null,
            "display": null,
            "left": null
          }
        },
        "a112d733073c4a6e933e2a7d9f5ff631": {
          "model_module": "@jupyter-widgets/controls",
          "model_name": "FloatProgressModel",
          "state": {
            "_view_name": "ProgressView",
            "style": "IPY_MODEL_fdea1cdf4fb84f29b5b337cd1a5c9bd2",
            "_dom_classes": [],
            "description": "100%",
            "_model_name": "FloatProgressModel",
            "bar_style": "success",
            "max": 8,
            "_view_module": "@jupyter-widgets/controls",
            "_model_module_version": "1.5.0",
            "value": 8,
            "_view_count": null,
            "_view_module_version": "1.5.0",
            "orientation": "horizontal",
            "min": 0,
            "description_tooltip": null,
            "_model_module": "@jupyter-widgets/controls",
            "layout": "IPY_MODEL_6342b43c59c746e1a1809e634967b176"
          }
        },
        "17e221a2569d4797a7c795478a96de33": {
          "model_module": "@jupyter-widgets/controls",
          "model_name": "HTMLModel",
          "state": {
            "_view_name": "HTMLView",
            "style": "IPY_MODEL_21488a9a699943c1ac45b6d9a9399e5c",
            "_dom_classes": [],
            "description": "",
            "_model_name": "HTMLModel",
            "placeholder": "​",
            "_view_module": "@jupyter-widgets/controls",
            "_model_module_version": "1.5.0",
            "value": " 8/8 [00:09&lt;00:00,  1.19s/it]",
            "_view_count": null,
            "_view_module_version": "1.5.0",
            "description_tooltip": null,
            "_model_module": "@jupyter-widgets/controls",
            "layout": "IPY_MODEL_bcc236bb66494677ad10aedee621e0b5"
          }
        },
        "fdea1cdf4fb84f29b5b337cd1a5c9bd2": {
          "model_module": "@jupyter-widgets/controls",
          "model_name": "ProgressStyleModel",
          "state": {
            "_view_name": "StyleView",
            "_model_name": "ProgressStyleModel",
            "description_width": "initial",
            "_view_module": "@jupyter-widgets/base",
            "_model_module_version": "1.5.0",
            "_view_count": null,
            "_view_module_version": "1.2.0",
            "bar_color": null,
            "_model_module": "@jupyter-widgets/controls"
          }
        },
        "6342b43c59c746e1a1809e634967b176": {
          "model_module": "@jupyter-widgets/base",
          "model_name": "LayoutModel",
          "state": {
            "_view_name": "LayoutView",
            "grid_template_rows": null,
            "right": null,
            "justify_content": null,
            "_view_module": "@jupyter-widgets/base",
            "overflow": null,
            "_model_module_version": "1.2.0",
            "_view_count": null,
            "flex_flow": null,
            "width": null,
            "min_width": null,
            "border": null,
            "align_items": null,
            "bottom": null,
            "_model_module": "@jupyter-widgets/base",
            "top": null,
            "grid_column": null,
            "overflow_y": null,
            "overflow_x": null,
            "grid_auto_flow": null,
            "grid_area": null,
            "grid_template_columns": null,
            "flex": null,
            "_model_name": "LayoutModel",
            "justify_items": null,
            "grid_row": null,
            "max_height": null,
            "align_content": null,
            "visibility": null,
            "align_self": null,
            "height": null,
            "min_height": null,
            "padding": null,
            "grid_auto_rows": null,
            "grid_gap": null,
            "max_width": null,
            "order": null,
            "_view_module_version": "1.2.0",
            "grid_template_areas": null,
            "object_position": null,
            "object_fit": null,
            "grid_auto_columns": null,
            "margin": null,
            "display": null,
            "left": null
          }
        },
        "21488a9a699943c1ac45b6d9a9399e5c": {
          "model_module": "@jupyter-widgets/controls",
          "model_name": "DescriptionStyleModel",
          "state": {
            "_view_name": "StyleView",
            "_model_name": "DescriptionStyleModel",
            "description_width": "",
            "_view_module": "@jupyter-widgets/base",
            "_model_module_version": "1.5.0",
            "_view_count": null,
            "_view_module_version": "1.2.0",
            "_model_module": "@jupyter-widgets/controls"
          }
        },
        "bcc236bb66494677ad10aedee621e0b5": {
          "model_module": "@jupyter-widgets/base",
          "model_name": "LayoutModel",
          "state": {
            "_view_name": "LayoutView",
            "grid_template_rows": null,
            "right": null,
            "justify_content": null,
            "_view_module": "@jupyter-widgets/base",
            "overflow": null,
            "_model_module_version": "1.2.0",
            "_view_count": null,
            "flex_flow": null,
            "width": null,
            "min_width": null,
            "border": null,
            "align_items": null,
            "bottom": null,
            "_model_module": "@jupyter-widgets/base",
            "top": null,
            "grid_column": null,
            "overflow_y": null,
            "overflow_x": null,
            "grid_auto_flow": null,
            "grid_area": null,
            "grid_template_columns": null,
            "flex": null,
            "_model_name": "LayoutModel",
            "justify_items": null,
            "grid_row": null,
            "max_height": null,
            "align_content": null,
            "visibility": null,
            "align_self": null,
            "height": null,
            "min_height": null,
            "padding": null,
            "grid_auto_rows": null,
            "grid_gap": null,
            "max_width": null,
            "order": null,
            "_view_module_version": "1.2.0",
            "grid_template_areas": null,
            "object_position": null,
            "object_fit": null,
            "grid_auto_columns": null,
            "margin": null,
            "display": null,
            "left": null
          }
        },
        "79a4c2f5ab64413da86cf28ad60f41de": {
          "model_module": "@jupyter-widgets/controls",
          "model_name": "HBoxModel",
          "state": {
            "_view_name": "HBoxView",
            "_dom_classes": [],
            "_model_name": "HBoxModel",
            "_view_module": "@jupyter-widgets/controls",
            "_model_module_version": "1.5.0",
            "_view_count": null,
            "_view_module_version": "1.5.0",
            "box_style": "",
            "layout": "IPY_MODEL_6512ac40554f4448ae824bf753832973",
            "_model_module": "@jupyter-widgets/controls",
            "children": [
              "IPY_MODEL_f99273b06ce94d1f9afcd3b25012bb68",
              "IPY_MODEL_be4b8395c4ab4c31887ffbf6c20ef518"
            ]
          }
        },
        "6512ac40554f4448ae824bf753832973": {
          "model_module": "@jupyter-widgets/base",
          "model_name": "LayoutModel",
          "state": {
            "_view_name": "LayoutView",
            "grid_template_rows": null,
            "right": null,
            "justify_content": null,
            "_view_module": "@jupyter-widgets/base",
            "overflow": null,
            "_model_module_version": "1.2.0",
            "_view_count": null,
            "flex_flow": null,
            "width": null,
            "min_width": null,
            "border": null,
            "align_items": null,
            "bottom": null,
            "_model_module": "@jupyter-widgets/base",
            "top": null,
            "grid_column": null,
            "overflow_y": null,
            "overflow_x": null,
            "grid_auto_flow": null,
            "grid_area": null,
            "grid_template_columns": null,
            "flex": null,
            "_model_name": "LayoutModel",
            "justify_items": null,
            "grid_row": null,
            "max_height": null,
            "align_content": null,
            "visibility": null,
            "align_self": null,
            "height": null,
            "min_height": null,
            "padding": null,
            "grid_auto_rows": null,
            "grid_gap": null,
            "max_width": null,
            "order": null,
            "_view_module_version": "1.2.0",
            "grid_template_areas": null,
            "object_position": null,
            "object_fit": null,
            "grid_auto_columns": null,
            "margin": null,
            "display": null,
            "left": null
          }
        },
        "f99273b06ce94d1f9afcd3b25012bb68": {
          "model_module": "@jupyter-widgets/controls",
          "model_name": "FloatProgressModel",
          "state": {
            "_view_name": "ProgressView",
            "style": "IPY_MODEL_b9104911d6f74d52a369409f834e1926",
            "_dom_classes": [],
            "description": "100%",
            "_model_name": "FloatProgressModel",
            "bar_style": "success",
            "max": 1,
            "_view_module": "@jupyter-widgets/controls",
            "_model_module_version": "1.5.0",
            "value": 1,
            "_view_count": null,
            "_view_module_version": "1.5.0",
            "orientation": "horizontal",
            "min": 0,
            "description_tooltip": null,
            "_model_module": "@jupyter-widgets/controls",
            "layout": "IPY_MODEL_3b8871a7e6514da698750c5315757dec"
          }
        },
        "be4b8395c4ab4c31887ffbf6c20ef518": {
          "model_module": "@jupyter-widgets/controls",
          "model_name": "HTMLModel",
          "state": {
            "_view_name": "HTMLView",
            "style": "IPY_MODEL_b89a24c90d654e9f8c54e606c97d71c5",
            "_dom_classes": [],
            "description": "",
            "_model_name": "HTMLModel",
            "placeholder": "​",
            "_view_module": "@jupyter-widgets/controls",
            "_model_module_version": "1.5.0",
            "value": " 1/1 [00:01&lt;00:00,  1.27s/it]",
            "_view_count": null,
            "_view_module_version": "1.5.0",
            "description_tooltip": null,
            "_model_module": "@jupyter-widgets/controls",
            "layout": "IPY_MODEL_98a58267e6474dca8e9d8559017cc570"
          }
        },
        "b9104911d6f74d52a369409f834e1926": {
          "model_module": "@jupyter-widgets/controls",
          "model_name": "ProgressStyleModel",
          "state": {
            "_view_name": "StyleView",
            "_model_name": "ProgressStyleModel",
            "description_width": "initial",
            "_view_module": "@jupyter-widgets/base",
            "_model_module_version": "1.5.0",
            "_view_count": null,
            "_view_module_version": "1.2.0",
            "bar_color": null,
            "_model_module": "@jupyter-widgets/controls"
          }
        },
        "3b8871a7e6514da698750c5315757dec": {
          "model_module": "@jupyter-widgets/base",
          "model_name": "LayoutModel",
          "state": {
            "_view_name": "LayoutView",
            "grid_template_rows": null,
            "right": null,
            "justify_content": null,
            "_view_module": "@jupyter-widgets/base",
            "overflow": null,
            "_model_module_version": "1.2.0",
            "_view_count": null,
            "flex_flow": null,
            "width": null,
            "min_width": null,
            "border": null,
            "align_items": null,
            "bottom": null,
            "_model_module": "@jupyter-widgets/base",
            "top": null,
            "grid_column": null,
            "overflow_y": null,
            "overflow_x": null,
            "grid_auto_flow": null,
            "grid_area": null,
            "grid_template_columns": null,
            "flex": null,
            "_model_name": "LayoutModel",
            "justify_items": null,
            "grid_row": null,
            "max_height": null,
            "align_content": null,
            "visibility": null,
            "align_self": null,
            "height": null,
            "min_height": null,
            "padding": null,
            "grid_auto_rows": null,
            "grid_gap": null,
            "max_width": null,
            "order": null,
            "_view_module_version": "1.2.0",
            "grid_template_areas": null,
            "object_position": null,
            "object_fit": null,
            "grid_auto_columns": null,
            "margin": null,
            "display": null,
            "left": null
          }
        },
        "b89a24c90d654e9f8c54e606c97d71c5": {
          "model_module": "@jupyter-widgets/controls",
          "model_name": "DescriptionStyleModel",
          "state": {
            "_view_name": "StyleView",
            "_model_name": "DescriptionStyleModel",
            "description_width": "",
            "_view_module": "@jupyter-widgets/base",
            "_model_module_version": "1.5.0",
            "_view_count": null,
            "_view_module_version": "1.2.0",
            "_model_module": "@jupyter-widgets/controls"
          }
        },
        "98a58267e6474dca8e9d8559017cc570": {
          "model_module": "@jupyter-widgets/base",
          "model_name": "LayoutModel",
          "state": {
            "_view_name": "LayoutView",
            "grid_template_rows": null,
            "right": null,
            "justify_content": null,
            "_view_module": "@jupyter-widgets/base",
            "overflow": null,
            "_model_module_version": "1.2.0",
            "_view_count": null,
            "flex_flow": null,
            "width": null,
            "min_width": null,
            "border": null,
            "align_items": null,
            "bottom": null,
            "_model_module": "@jupyter-widgets/base",
            "top": null,
            "grid_column": null,
            "overflow_y": null,
            "overflow_x": null,
            "grid_auto_flow": null,
            "grid_area": null,
            "grid_template_columns": null,
            "flex": null,
            "_model_name": "LayoutModel",
            "justify_items": null,
            "grid_row": null,
            "max_height": null,
            "align_content": null,
            "visibility": null,
            "align_self": null,
            "height": null,
            "min_height": null,
            "padding": null,
            "grid_auto_rows": null,
            "grid_gap": null,
            "max_width": null,
            "order": null,
            "_view_module_version": "1.2.0",
            "grid_template_areas": null,
            "object_position": null,
            "object_fit": null,
            "grid_auto_columns": null,
            "margin": null,
            "display": null,
            "left": null
          }
        }
      }
    }
  },
  "cells": [
    {
      "cell_type": "markdown",
      "metadata": {
        "id": "c9QcGnGPdX2C",
        "colab_type": "text"
      },
      "source": [
        "\n",
        "**Install requirements**"
      ]
    },
    {
      "cell_type": "code",
      "metadata": {
        "id": "k9O3aM3Tb28q",
        "colab_type": "code",
        "colab": {}
      },
      "source": [
        "!pip3 install 'torch==1.3.1'\n",
        "!pip3 install 'torchvision==0.5.0'\n",
        "!pip3 install 'Pillow-SIMD'\n",
        "!pip3 install 'tqdm'"
      ],
      "execution_count": 0,
      "outputs": []
    },
    {
      "cell_type": "markdown",
      "metadata": {
        "id": "fo942LMOdlh4",
        "colab_type": "text"
      },
      "source": [
        "**Import libraries**"
      ]
    },
    {
      "cell_type": "code",
      "metadata": {
        "id": "DokFOdD1dJEl",
        "colab_type": "code",
        "outputId": "e7abf1e1-8474-44c4-a80d-c6ff9826b041",
        "colab": {
          "base_uri": "https://localhost:8080/",
          "height": 66
        }
      },
      "source": [
        "import os\n",
        "import logging\n",
        "\n",
        "import torch\n",
        "import torch.nn as nn\n",
        "import torch.optim as optim\n",
        "from torch.utils.data import Subset, DataLoader, ConcatDataset\n",
        "from torch.backends import cudnn\n",
        "\n",
        "import torchvision\n",
        "from torchvision import transforms\n",
        "from torchvision.models import alexnet\n",
        "\n",
        "from PIL import Image\n",
        "from tqdm.notebook import tqdm\n",
        "\n",
        "import numpy as np\n",
        "\n",
        "\n",
        "import matplotlib.pyplot as plt\n",
        "import seaborn as sns\n",
        "%matplotlib inline"
      ],
      "execution_count": 0,
      "outputs": [
        {
          "output_type": "stream",
          "text": [
            "/usr/local/lib/python3.6/dist-packages/statsmodels/tools/_testing.py:19: FutureWarning: pandas.util.testing is deprecated. Use the functions in the public API at pandas.testing instead.\n",
            "  import pandas.util.testing as tm\n"
          ],
          "name": "stderr"
        }
      ]
    },
    {
      "cell_type": "markdown",
      "metadata": {
        "id": "OIDLJuIXK_vh",
        "colab_type": "text"
      },
      "source": [
        "**Set Arguments**"
      ]
    },
    {
      "cell_type": "code",
      "metadata": {
        "id": "d5PkYfqfK_SA",
        "colab_type": "code",
        "colab": {}
      },
      "source": [
        "DEVICE = 'cuda' # 'cuda' or 'cpu'\n",
        "\n",
        "NUM_CLASSES = 7\n",
        "\n",
        "BATCH_SIZE = 256     # Higher batch sizes allows for larger learning rates. An empirical heuristic suggests that, when changing\n",
        "                     # the batch size, learning rate should change by the same factor to have comparable results\n",
        "\n",
        "LR = 1e-2            # The initial Learning Rate\n",
        "#1e-2\n",
        "#1e-3\n",
        "MOMENTUM = 0.9       # Hyperparameter for SGD, keep this at 0.9 when using SGD\n",
        "WEIGHT_DECAY = 5e-5  # Regularization, you can keep this at the default\n",
        "\n",
        "NUM_EPOCHS = 30      # Total number of training epochs (iterations over dataset)\n",
        "STEP_SIZE = 20       # How many epochs before decreasing learning rate (if using a step-down policy)\n",
        "GAMMA = 0.1          # Multiplicative factor for learning rate step-down\n",
        "\n",
        "ALPHA = 0.1\n",
        "\n",
        "LOG_FREQUENCY = 10"
      ],
      "execution_count": 0,
      "outputs": []
    },
    {
      "cell_type": "markdown",
      "metadata": {
        "id": "9gwii0TBHvzh",
        "colab_type": "text"
      },
      "source": [
        "**Define Data Preprocessing**"
      ]
    },
    {
      "cell_type": "code",
      "metadata": {
        "id": "QUDdw4j2H0Mc",
        "colab_type": "code",
        "colab": {}
      },
      "source": [
        "# ATTENZION\n",
        "#ATTTENZIONE\n",
        "# NORMALIZZARE CON VALORI DEL DATASE IMAGENET SE NET è PRETRAINATA\n",
        "# Define transforms for training phase\n",
        "train_transform = transforms.Compose([transforms.Resize(256),      # Resizes short size of the PIL image to 256\n",
        "                                      transforms.CenterCrop(224),  # Crops a central square patch of the image\n",
        "                                                                   # 224 because torchvision's AlexNet needs a 224x224 input!\n",
        "                                                                   # Remember this when applying different transformations, otherwise you get an error\n",
        "                                      transforms.RandomCrop( 64 , padding =2) ,\n",
        "                                      transforms.ToTensor(), # Turn PIL Image to torch.Tensor\n",
        "                                      transforms.Normalize(mean=[0.485, 0.456, 0.406], std=[0.229, 0.224, 0.225]) # Normalizes tensor with mean and standard deviation\n",
        "])\n",
        "# Define transforms for the evaluation phase\n",
        "eval_transform = transforms.Compose([transforms.Resize(256),\n",
        "                                      transforms.CenterCrop(224),\n",
        "                                      transforms.ToTensor(),\n",
        "                                      transforms.Normalize(mean=[0.485, 0.456, 0.406], std=[0.229, 0.224, 0.225])                                    \n",
        "])"
      ],
      "execution_count": 0,
      "outputs": []
    },
    {
      "cell_type": "markdown",
      "metadata": {
        "id": "2qYIHPzYLY7i",
        "colab_type": "text"
      },
      "source": [
        "**Prepare Dataset**"
      ]
    },
    {
      "cell_type": "code",
      "metadata": {
        "id": "QfVq_uDHLbsR",
        "colab_type": "code",
        "outputId": "4ade6c8a-9065-4622-ad3b-4fdf66a62cca",
        "colab": {
          "base_uri": "https://localhost:8080/",
          "height": 66
        }
      },
      "source": [
        "# Clone github repository with data\n",
        "if not os.path.isdir('./Homework3_PACS'):\n",
        "  !git clone https://github.com/RoboTuan/Homework3_PACS.git\n",
        "\n",
        "DATA_DIR = 'Homework3_PACS'\n",
        "\n",
        "DATA_DIR_train = 'Homework3_PACS/PACS/photo'\n",
        "DATA_DIR_test = 'Homework3_PACS/PACS/art_painting'\n",
        "\n",
        "# Prepare Pytorch train/test Datasets\n",
        "train_dataset = torchvision.datasets.ImageFolder(DATA_DIR_train, transform=train_transform)\n",
        "test_dataset = torchvision.datasets.ImageFolder(DATA_DIR_test, transform=eval_transform)\n",
        "\n",
        "#train_indexes = [idx for idx in range(len(train_dataset)) if idx % 5]\n",
        "#test_indexes = [idx for idx in range(len(test_dataset)) if not idx % 5]\n",
        "\n",
        "#train_dataset = Subset(train_dataset, train_indexes)\n",
        "#test_dataset = Subset(test_dataset, test_indexes)\n",
        "\n",
        "# Check dataset sizes\n",
        "print('Train Dataset: {}'.format(len(train_dataset)))\n",
        "print('Test Dataset: {}'.format(len(test_dataset)))"
      ],
      "execution_count": 0,
      "outputs": [
        {
          "output_type": "stream",
          "text": [
            "Train Dataset: 1670\n",
            "Test Dataset: 2048\n"
          ],
          "name": "stdout"
        }
      ]
    },
    {
      "cell_type": "code",
      "metadata": {
        "id": "1w8vshYnyRql",
        "colab_type": "code",
        "colab": {}
      },
      "source": [
        "train_distr = np.zeros(7)\n",
        "for index in range(len(train_dataset)):\n",
        "  label = train_dataset.__getitem__(index)[1]\n",
        "  train_distr[label] += 1\n",
        "\n",
        "test_distr = np.zeros(7)\n",
        "for index in range(len(test_dataset)):\n",
        "  label = test_dataset.__getitem__(index)[1]\n",
        "  test_distr[label] += 1\n",
        "  "
      ],
      "execution_count": 0,
      "outputs": []
    },
    {
      "cell_type": "code",
      "metadata": {
        "id": "2_ysUzBr0Oyv",
        "colab_type": "code",
        "outputId": "dfd277f4-f201-4b1a-88f9-bd2b01de9b79",
        "colab": {
          "base_uri": "https://localhost:8080/",
          "height": 356
        }
      },
      "source": [
        "figure, axes = plt.subplots(1, 2, figsize=(10,5))\n",
        "sns.barplot(x=np.linspace(0, 6, 7), y=train_distr, ax=axes[0]).set_title(\"train distribution\")\n",
        "sns.barplot(x=np.linspace(0, 6, 7), y=test_distr, ax=axes[1]).set_title(\"test distribution\")\n",
        "plt.show()"
      ],
      "execution_count": 0,
      "outputs": [
        {
          "output_type": "display_data",
          "data": {
            "image/png": "[encoded data removed]",
            "text/plain": [
              "<Figure size 720x360 with 2 Axes>"
            ]
          },
          "metadata": {
            "tags": [],
            "needs_background": "light"
          }
        }
      ]
    },
    {
      "cell_type": "markdown",
      "metadata": {
        "id": "FYEDQ7Z21ldN",
        "colab_type": "text"
      },
      "source": [
        "**Prepare Dataloaders**"
      ]
    },
    {
      "cell_type": "code",
      "metadata": {
        "id": "VriRw8SI1nle",
        "colab_type": "code",
        "colab": {}
      },
      "source": [
        "# Dataloaders iterate over pytorch datasets and transparently provide useful functions (e.g. parallelization and shuffling)\n",
        "train_dataloader = DataLoader(train_dataset, batch_size=BATCH_SIZE, shuffle=True, num_workers=4, drop_last=True)\n",
        "test_dataloader = DataLoader(test_dataset, batch_size=BATCH_SIZE, shuffle=False, num_workers=4, drop_last=True)"
      ],
      "execution_count": 0,
      "outputs": []
    },
    {
      "cell_type": "code",
      "metadata": {
        "id": "b7nG9MrL9dow",
        "colab_type": "code",
        "colab": {}
      },
      "source": [
        "from Homework3_PACS.gradient_reversal_example import alexnetDANN"
      ],
      "execution_count": 0,
      "outputs": []
    },
    {
      "cell_type": "markdown",
      "metadata": {
        "id": "gbZ1t5Qs2z4j",
        "colab_type": "text"
      },
      "source": [
        "**Prepare Network**"
      ]
    },
    {
      "cell_type": "code",
      "metadata": {
        "id": "exHUjtXa22DN",
        "colab_type": "code",
        "colab": {}
      },
      "source": [
        "kwargs = {'num_classes':7, 'num_domain_classes':2}\n",
        "net = alexnetDANN(pretrained=True, **kwargs) # Loading AlexNet model"
      ],
      "execution_count": 0,
      "outputs": []
    },
    {
      "cell_type": "code",
      "metadata": {
        "id": "Qkn_VNNlxiAU",
        "colab_type": "code",
        "colab": {}
      },
      "source": [
        "#net = alexnet(pretrained = True)\n",
        "#net.classifier[6] = nn.Linear(4096, NUM_CLASSES)"
      ],
      "execution_count": 0,
      "outputs": []
    },
    {
      "cell_type": "markdown",
      "metadata": {
        "id": "ObtT3C2FZ-D0",
        "colab_type": "text"
      },
      "source": [
        "**Train on Photo, and Test on Art painting without adaptation**"
      ]
    },
    {
      "cell_type": "code",
      "metadata": {
        "id": "9sjq00G94tSc",
        "colab_type": "code",
        "colab": {}
      },
      "source": [
        "# Define loss function\n",
        "criterion = nn.CrossEntropyLoss() # for classification, we use Cross Entropy\n",
        "\n",
        "# Choose parameters to optimize\n",
        "# To access a different set of parameters, you have to access submodules of AlexNet\n",
        "# (nn.Module objects, like AlexNet, implement the Composite Pattern)\n",
        "# e.g.: parameters of the fully connected layers: net.classifier.parameters()\n",
        "# e.g.: parameters of the convolutional layers: look at alexnet's source code ;) \n",
        "parameters_to_optimize = net.parameters() # In this case we optimize over all the parameters of AlexNet\n",
        "\n",
        "# Define optimizer\n",
        "# An optimizer updates the weights based on loss\n",
        "# We use SGD with momentum\n",
        "optimizer = optim.SGD(parameters_to_optimize, lr=LR, momentum=MOMENTUM, weight_decay=WEIGHT_DECAY, nesterov=True)\n",
        "\n",
        "# Define scheduler\n",
        "# A scheduler dynamically changes learning rate\n",
        "# The most common schedule is the step(-down), which multiplies learning rate by gamma every STEP_SIZE epochs\n",
        "scheduler = optim.lr_scheduler.StepLR(optimizer, step_size=STEP_SIZE, gamma=GAMMA)"
      ],
      "execution_count": 0,
      "outputs": []
    },
    {
      "cell_type": "markdown",
      "metadata": {
        "id": "AxYUli9d9uYQ",
        "colab_type": "text"
      },
      "source": [
        "**Train**"
      ]
    },
    {
      "cell_type": "code",
      "metadata": {
        "id": "ZcoQ5fD49yT_",
        "colab_type": "code",
        "outputId": "9f6f7808-7a14-4b31-ae60-8ae31c30a8b6",
        "colab": {
          "base_uri": "https://localhost:8080/",
          "height": 706
        }
      },
      "source": [
        "# By default, everything is loaded to cpu\n",
        "net = net.to(DEVICE) # this will bring the network to GPU if DEVICE is cuda\n",
        "\n",
        "cudnn.benchmark # Calling this optimizes runtime\n",
        "\n",
        "current_step = 0\n",
        "# Start iterating over the epochs\n",
        "for epoch in range(NUM_EPOCHS):\n",
        "  print('Starting epoch {}/{}, LR = {}'.format(epoch+1, NUM_EPOCHS, scheduler.get_last_lr()))\n",
        "\n",
        "  # Iterate over the dataset\n",
        "  for images, labels in train_dataloader:\n",
        "    # Bring data over the device of choice\n",
        "    images = images.to(DEVICE)\n",
        "    labels = labels.to(DEVICE)\n",
        "\n",
        "    net.train() # Sets module in training mode\n",
        "\n",
        "    # PyTorch, by default, accumulates gradients after each backward pass\n",
        "    # We need to manually set the gradients to zero before starting a new iteration\n",
        "    optimizer.zero_grad() # Zero-ing the gradients\n",
        "\n",
        "    # Forward pass to the network\n",
        "    outputs = net(images)\n",
        "\n",
        "    # Compute loss based on output and ground truth\n",
        "    loss = criterion(outputs, labels)\n",
        "\n",
        "    # Log loss\n",
        "    if current_step % LOG_FREQUENCY == 0:\n",
        "      print('Step {}, Loss {}'.format(current_step, loss.item()))\n",
        "\n",
        "    # Compute gradients for each layer and update weights\n",
        "    loss.backward()  # backward pass: computes gradients\n",
        "    optimizer.step() # update weights based on accumulated gradients\n",
        "\n",
        "    current_step += 1\n",
        "\n",
        "  # Step the scheduler\n",
        "  scheduler.step() "
      ],
      "execution_count": 0,
      "outputs": [
        {
          "output_type": "stream",
          "text": [
            "Starting epoch 1/30, LR = [0.01]\n",
            "Step 0, Loss 2.5209784507751465\n",
            "Starting epoch 2/30, LR = [0.01]\n",
            "Step 10, Loss 1.133375883102417\n",
            "Starting epoch 3/30, LR = [0.01]\n",
            "Starting epoch 4/30, LR = [0.01]\n",
            "Step 20, Loss 1.041648507118225\n",
            "Starting epoch 5/30, LR = [0.01]\n",
            "Starting epoch 6/30, LR = [0.01]\n",
            "Step 30, Loss 0.9261630773544312\n",
            "Starting epoch 7/30, LR = [0.01]\n",
            "Step 40, Loss 0.864020824432373\n",
            "Starting epoch 8/30, LR = [0.01]\n",
            "Starting epoch 9/30, LR = [0.01]\n",
            "Step 50, Loss 0.7822348475456238\n",
            "Starting epoch 10/30, LR = [0.01]\n",
            "Starting epoch 11/30, LR = [0.01]\n",
            "Step 60, Loss 0.8616864681243896\n",
            "Starting epoch 12/30, LR = [0.01]\n",
            "Step 70, Loss 0.7865439057350159\n",
            "Starting epoch 13/30, LR = [0.01]\n",
            "Starting epoch 14/30, LR = [0.01]\n",
            "Step 80, Loss 0.8040544986724854\n",
            "Starting epoch 15/30, LR = [0.01]\n",
            "Starting epoch 16/30, LR = [0.01]\n",
            "Step 90, Loss 0.7862322330474854\n",
            "Starting epoch 17/30, LR = [0.01]\n",
            "Step 100, Loss 0.713293731212616\n",
            "Starting epoch 18/30, LR = [0.01]\n",
            "Starting epoch 19/30, LR = [0.01]\n",
            "Step 110, Loss 0.6292328834533691\n",
            "Starting epoch 20/30, LR = [0.01]\n",
            "Starting epoch 21/30, LR = [0.001]\n",
            "Step 120, Loss 0.6964868903160095\n",
            "Starting epoch 22/30, LR = [0.001]\n",
            "Step 130, Loss 0.6980434060096741\n",
            "Starting epoch 23/30, LR = [0.001]\n",
            "Starting epoch 24/30, LR = [0.001]\n",
            "Step 140, Loss 0.6246695518493652\n",
            "Starting epoch 25/30, LR = [0.001]\n",
            "Starting epoch 26/30, LR = [0.001]\n",
            "Step 150, Loss 0.7541270852088928\n",
            "Starting epoch 27/30, LR = [0.001]\n",
            "Step 160, Loss 0.603235125541687\n",
            "Starting epoch 28/30, LR = [0.001]\n",
            "Starting epoch 29/30, LR = [0.001]\n",
            "Step 170, Loss 0.6172888875007629\n",
            "Starting epoch 30/30, LR = [0.001]\n"
          ],
          "name": "stdout"
        }
      ]
    },
    {
      "cell_type": "markdown",
      "metadata": {
        "id": "UsHFI-GAJd69",
        "colab_type": "text"
      },
      "source": [
        "**Test**"
      ]
    },
    {
      "cell_type": "code",
      "metadata": {
        "id": "EO3HV5pqJg1o",
        "colab_type": "code",
        "outputId": "066a71a7-b5e8-40f0-a5b1-1885b29bc71c",
        "colab": {
          "base_uri": "https://localhost:8080/",
          "height": 97,
          "referenced_widgets": [
            "ed29e92fa7da462c99540c7f3d7b8571",
            "74b4fd9b9a0348f2a8dc71ef6e71af3b",
            "a112d733073c4a6e933e2a7d9f5ff631",
            "17e221a2569d4797a7c795478a96de33",
            "fdea1cdf4fb84f29b5b337cd1a5c9bd2",
            "6342b43c59c746e1a1809e634967b176",
            "21488a9a699943c1ac45b6d9a9399e5c",
            "bcc236bb66494677ad10aedee621e0b5"
          ]
        }
      },
      "source": [
        "net = net.to(DEVICE) # this will bring the network to GPU if DEVICE is cuda\n",
        "net.train(False) # Set Network to evaluation mode\n",
        "\n",
        "running_corrects = 0\n",
        "for images, labels in tqdm(test_dataloader):\n",
        "  images = images.to(DEVICE)\n",
        "  labels = labels.to(DEVICE)\n",
        "\n",
        "  # Forward Pass\n",
        "  outputs = net(images)\n",
        "\n",
        "  # Get predictions\n",
        "  _, preds = torch.max(outputs.data, 1)\n",
        "\n",
        "  # Update Corrects\n",
        "  running_corrects += torch.sum(preds == labels.data).data.item()\n",
        "\n",
        "# Calculate Accuracy\n",
        "accuracy = running_corrects / float(len(test_dataset))\n",
        "\n",
        "print('Test Accuracy: {}'.format(accuracy))"
      ],
      "execution_count": 0,
      "outputs": [
        {
          "output_type": "display_data",
          "data": {
            "application/vnd.jupyter.widget-view+json": {
              "model_id": "ed29e92fa7da462c99540c7f3d7b8571",
              "version_minor": 0,
              "version_major": 2
            },
            "text/plain": [
              "HBox(children=(FloatProgress(value=0.0, max=8.0), HTML(value='')))"
            ]
          },
          "metadata": {
            "tags": []
          }
        },
        {
          "output_type": "stream",
          "text": [
            "\n",
            "Test Accuracy: 0.40966796875\n"
          ],
          "name": "stdout"
        }
      ]
    },
    {
      "cell_type": "markdown",
      "metadata": {
        "id": "tdwgdkFm057R",
        "colab_type": "text"
      },
      "source": [
        "**Domain adaptation**\n"
      ]
    },
    {
      "cell_type": "code",
      "metadata": {
        "id": "LVN3u0co1BqN",
        "colab_type": "code",
        "colab": {}
      },
      "source": [
        "#joint_dataset = ConcatDataset([train_dataset, test_dataset])\n",
        "#len(joint_dataset)"
      ],
      "execution_count": 0,
      "outputs": []
    },
    {
      "cell_type": "code",
      "metadata": {
        "id": "vufc6TbY_Xxv",
        "colab_type": "code",
        "colab": {}
      },
      "source": [
        "kwargs = {'num_classes':7, 'num_domain_classes':2}\n",
        "net = alexnetDANN(pretrained=True, **kwargs) # Loading AlexNet model"
      ],
      "execution_count": 0,
      "outputs": []
    },
    {
      "cell_type": "code",
      "metadata": {
        "id": "QnIhtNUw-hLb",
        "colab_type": "code",
        "colab": {}
      },
      "source": [
        "# Define loss function\n",
        "criterion = nn.CrossEntropyLoss() # for classification, we use Cross Entropy\n",
        "\n",
        "# Choose parameters to optimize\n",
        "# To access a different set of parameters, you have to access submodules of AlexNet\n",
        "# (nn.Module objects, like AlexNet, implement the Composite Pattern)\n",
        "# e.g.: parameters of the fully connected layers: net.classifier.parameters()\n",
        "# e.g.: parameters of the convolutional layers: look at alexnet's source code ;) \n",
        "parameters_to_optimize = net.parameters() # In this case we optimize over all the parameters of AlexNet\n",
        "\n",
        "# Define optimizer\n",
        "# An optimizer updates the weights based on loss\n",
        "# We use SGD with momentum\n",
        "optimizer = optim.SGD(parameters_to_optimize, lr=LR, momentum=MOMENTUM, weight_decay=WEIGHT_DECAY, nesterov=True)\n",
        "\n",
        "# Define scheduler\n",
        "# A scheduler dynamically changes learning rate\n",
        "# The most common schedule is the step(-down), which multiplies learning rate by gamma every STEP_SIZE epochs\n",
        "scheduler = optim.lr_scheduler.StepLR(optimizer, step_size=STEP_SIZE, gamma=GAMMA)"
      ],
      "execution_count": 0,
      "outputs": []
    },
    {
      "cell_type": "code",
      "metadata": {
        "id": "MDgJyQSY2DZb",
        "colab_type": "code",
        "colab": {}
      },
      "source": [
        "class Train_Test:\n",
        "  def __init__(self, network, source, target):\n",
        "\n",
        "    self.source_dataloader = source\n",
        "    self.target_dataloader = target\n",
        "\n",
        "    self.network = network.to(DEVICE)\n",
        "\n",
        "    cudnn.benchmark # Calling this optimizes runtime\n",
        "\n",
        "    self.max_batches = min(len(self.source_dataloader), len(self.target_dataloader))\n",
        "\n",
        "\n",
        "  def train(self):\n",
        "    # Start iterating over the epochs\n",
        "    for epoch in range(NUM_EPOCHS):\n",
        "      print(\"**********************************\")\n",
        "      print(\"Starting epoch {}/{} LR = {}\".format(epoch+1, NUM_EPOCHS, scheduler.get_last_lr()))\n",
        "      \n",
        "      dl_source_iter = iter(train_dataloader)\n",
        "      dl_target_iter = iter(test_dataloader)\n",
        "\n",
        "      for batch in range(self.max_batches):\n",
        "        optimizer.zero_grad()\n",
        "\n",
        "        # Train on source\n",
        "        images_s, labels_s = next(dl_source_iter)\n",
        "        images_s = images_s.to(DEVICE)\n",
        "        labels_s = labels_s.to(DEVICE)\n",
        "\n",
        "        class_pred = net(images_s)\n",
        "        loss_s_label = criterion(class_pred, labels_s)\n",
        "        #loss_s_label.backward()\n",
        "\n",
        "        # Train on source domain\n",
        "        labels_s_domain = torch.zeros(BATCH_SIZE, dtype=torch.long) # generate source domain labels\n",
        "        labels_s_domain = labels_s_domain.to(DEVICE)\n",
        "\n",
        "        domain_pred = net(images_s, ALPHA)\n",
        "        loss_s_domain = criterion(domain_pred, labels_s_domain)\n",
        "        #loss_s_domain.backward()\n",
        "\n",
        "        # Train on target domain\n",
        "        images_t, _ = next(dl_target_iter) # ignore target domain class labels!\n",
        "        labels_t_domain = torch.ones(BATCH_SIZE, dtype=torch.long) # generate target domain labels\n",
        "        images_t = images_t.to(DEVICE)\n",
        "        labels_t_domain = labels_t_domain.to(DEVICE)\n",
        "\n",
        "        domain_pred = net(images_t, ALPHA)\n",
        "        loss_t_domain = criterion(domain_pred, labels_t_domain)\n",
        "        #loss_t_domain.backward()\n",
        "\n",
        "        loss = loss_t_domain + loss_s_domain + loss_s_label\n",
        "        loss.backward()\n",
        "        optimizer.step() # update weights based on accumulated gradients\n",
        "\n",
        "        print(f\"class_loss: {loss_s_label.item():.4f} s_domain_loss: {loss_s_domain.item():.4f} t_domain_loss: {loss_t_domain.item():.4f}\")        \n",
        "      \n",
        "      # Step the scheduler\n",
        "      scheduler.step() \n",
        "\n",
        "  def test(self):\n",
        "    #self.network = self.network.to(DEVICE) # this will bring the network to GPU if DEVICE is cuda\n",
        "    self.network.train(False) # Set Network to evaluation mode\n",
        "\n",
        "    running_corrects = 0\n",
        "    for images, labels in tqdm(self.target_dataloader):\n",
        "      images = images.to(DEVICE)\n",
        "      labels = labels.to(DEVICE)\n",
        "\n",
        "      # Forward Pass\n",
        "      outputs = self.network(images)\n",
        "\n",
        "      # Get predictions\n",
        "      _, preds = torch.max(outputs.data, 1)\n",
        "\n",
        "      # Update Corrects\n",
        "      running_corrects += torch.sum(preds == labels.data).data.item()\n",
        "\n",
        "    # Calculate Accuracy\n",
        "    accuracy = running_corrects / float(len(test_dataset))\n",
        "\n",
        "    print('Test Accuracy: {}'.format(accuracy))"
      ],
      "execution_count": 0,
      "outputs": []
    },
    {
      "cell_type": "code",
      "metadata": {
        "id": "Q-y6YTn7hFgl",
        "colab_type": "code",
        "outputId": "99c6408a-4488-4d3a-ec24-2ef9470a8d58",
        "colab": {
          "base_uri": "https://localhost:8080/",
          "height": 1000
        }
      },
      "source": [
        "train_test = Train_Test(net, train_dataloader, test_dataloader)\n",
        "train_test.train()"
      ],
      "execution_count": 0,
      "outputs": [
        {
          "output_type": "stream",
          "text": [
            "**********************************\n",
            "Starting epoch 1/30 LR = [0.01]\n",
            "class_loss: 2.9201 s_domain_loss: 0.9964 t_domain_loss: 0.7434\n",
            "**********************************\n",
            "Starting epoch 2/30 LR = [0.01]\n",
            "class_loss: 3.6641 s_domain_loss: 0.0165 t_domain_loss: 1.1746\n",
            "**********************************\n",
            "Starting epoch 3/30 LR = [0.01]\n",
            "class_loss: 2.7321 s_domain_loss: 0.9411 t_domain_loss: 0.1117\n",
            "**********************************\n",
            "Starting epoch 4/30 LR = [0.01]\n",
            "class_loss: 1.5389 s_domain_loss: 0.2091 t_domain_loss: 0.3078\n",
            "**********************************\n",
            "Starting epoch 5/30 LR = [0.01]\n",
            "class_loss: 1.3378 s_domain_loss: 0.1020 t_domain_loss: 0.4524\n",
            "**********************************\n",
            "Starting epoch 6/30 LR = [0.01]\n",
            "class_loss: 1.2210 s_domain_loss: 0.2067 t_domain_loss: 0.2980\n",
            "**********************************\n",
            "Starting epoch 7/30 LR = [0.01]\n",
            "class_loss: 1.2504 s_domain_loss: 0.2357 t_domain_loss: 0.3987\n",
            "**********************************\n",
            "Starting epoch 8/30 LR = [0.01]\n",
            "class_loss: 1.2913 s_domain_loss: 0.2157 t_domain_loss: 0.4665\n",
            "**********************************\n",
            "Starting epoch 9/30 LR = [0.01]\n",
            "class_loss: 1.1860 s_domain_loss: 0.3613 t_domain_loss: 0.3441\n",
            "**********************************\n",
            "Starting epoch 10/30 LR = [0.01]\n",
            "class_loss: 1.2826 s_domain_loss: 0.3267 t_domain_loss: 0.3948\n",
            "**********************************\n",
            "Starting epoch 11/30 LR = [0.01]\n",
            "class_loss: 1.2083 s_domain_loss: 0.3160 t_domain_loss: 0.3916\n",
            "**********************************\n",
            "Starting epoch 12/30 LR = [0.01]\n",
            "class_loss: 1.1982 s_domain_loss: 0.3287 t_domain_loss: 0.4103\n",
            "**********************************\n",
            "Starting epoch 13/30 LR = [0.01]\n",
            "class_loss: 1.1992 s_domain_loss: 0.4282 t_domain_loss: 0.2349\n",
            "**********************************\n",
            "Starting epoch 14/30 LR = [0.01]\n",
            "class_loss: 1.0570 s_domain_loss: 0.3623 t_domain_loss: 0.1284\n",
            "**********************************\n",
            "Starting epoch 15/30 LR = [0.01]\n",
            "class_loss: 1.1847 s_domain_loss: 0.1870 t_domain_loss: 0.1466\n",
            "**********************************\n",
            "Starting epoch 16/30 LR = [0.01]\n",
            "class_loss: 1.0868 s_domain_loss: 0.1410 t_domain_loss: 0.1228\n",
            "**********************************\n",
            "Starting epoch 17/30 LR = [0.01]\n",
            "class_loss: 1.1445 s_domain_loss: 0.3260 t_domain_loss: 0.0695\n",
            "**********************************\n",
            "Starting epoch 18/30 LR = [0.01]\n",
            "class_loss: 0.9932 s_domain_loss: 0.1487 t_domain_loss: 0.0802\n",
            "**********************************\n",
            "Starting epoch 19/30 LR = [0.01]\n",
            "class_loss: 1.1042 s_domain_loss: 0.0853 t_domain_loss: 0.1847\n",
            "**********************************\n",
            "Starting epoch 20/30 LR = [0.01]\n",
            "class_loss: 1.1184 s_domain_loss: 0.0853 t_domain_loss: 0.1389\n",
            "**********************************\n",
            "Starting epoch 21/30 LR = [0.001]\n",
            "class_loss: 0.9921 s_domain_loss: 0.1512 t_domain_loss: 0.1948\n",
            "**********************************\n",
            "Starting epoch 22/30 LR = [0.001]\n",
            "class_loss: 1.1677 s_domain_loss: 0.1321 t_domain_loss: 0.2415\n",
            "**********************************\n",
            "Starting epoch 23/30 LR = [0.001]\n",
            "class_loss: 1.0068 s_domain_loss: 0.1441 t_domain_loss: 0.2358\n",
            "**********************************\n",
            "Starting epoch 24/30 LR = [0.001]\n",
            "class_loss: 0.8542 s_domain_loss: 0.0950 t_domain_loss: 0.2670\n",
            "**********************************\n",
            "Starting epoch 25/30 LR = [0.001]\n",
            "class_loss: 1.1170 s_domain_loss: 0.1936 t_domain_loss: 0.3301\n",
            "**********************************\n",
            "Starting epoch 26/30 LR = [0.001]\n",
            "class_loss: 0.9745 s_domain_loss: 0.1157 t_domain_loss: 0.3274\n",
            "**********************************\n",
            "Starting epoch 27/30 LR = [0.001]\n",
            "class_loss: 1.1003 s_domain_loss: 0.1226 t_domain_loss: 0.3125\n",
            "**********************************\n",
            "Starting epoch 28/30 LR = [0.001]\n",
            "class_loss: 1.0314 s_domain_loss: 0.1519 t_domain_loss: 0.3535\n",
            "**********************************\n",
            "Starting epoch 29/30 LR = [0.001]\n",
            "class_loss: 0.9638 s_domain_loss: 0.1054 t_domain_loss: 0.3455\n",
            "**********************************\n",
            "Starting epoch 30/30 LR = [0.001]\n",
            "class_loss: 0.8615 s_domain_loss: 0.1665 t_domain_loss: 0.3348\n"
          ],
          "name": "stdout"
        }
      ]
    },
    {
      "cell_type": "code",
      "metadata": {
        "id": "C7OD8oIM_dLa",
        "colab_type": "code",
        "outputId": "94c2b0e4-1c2c-49c0-c932-0a9d9664db69",
        "colab": {
          "base_uri": "https://localhost:8080/",
          "height": 97,
          "referenced_widgets": [
            "79a4c2f5ab64413da86cf28ad60f41de",
            "6512ac40554f4448ae824bf753832973",
            "f99273b06ce94d1f9afcd3b25012bb68",
            "be4b8395c4ab4c31887ffbf6c20ef518",
            "b9104911d6f74d52a369409f834e1926",
            "3b8871a7e6514da698750c5315757dec",
            "b89a24c90d654e9f8c54e606c97d71c5",
            "98a58267e6474dca8e9d8559017cc570"
          ]
        }
      },
      "source": [
        "train_test.test()"
      ],
      "execution_count": 0,
      "outputs": [
        {
          "output_type": "display_data",
          "data": {
            "application/vnd.jupyter.widget-view+json": {
              "model_id": "79a4c2f5ab64413da86cf28ad60f41de",
              "version_minor": 0,
              "version_major": 2
            },
            "text/plain": [
              "HBox(children=(FloatProgress(value=0.0, max=1.0), HTML(value='')))"
            ]
          },
          "metadata": {
            "tags": []
          }
        },
        {
          "output_type": "stream",
          "text": [
            "\n",
            "Test Accuracy: 0.16341463414634147\n"
          ],
          "name": "stdout"
        }
      ]
    }
  ]
}